{
 "cells": [
  {
   "cell_type": "code",
   "execution_count": 3,
   "metadata": {},
   "outputs": [],
   "source": [
    "import pandas as pd\n",
    "import numpy as np\n",
    "\n",
    "from sklearn.preprocessing import LabelEncoder\n",
    "from sklearn.model_selection import train_test_split\n",
    "from sklearn.feature_extraction.text import TfidfVectorizer, CountVectorizer\n",
    "\n",
    "import pprint\n",
    "import re\n",
    "\n",
    "import matplotlib.pyplot as plt\n",
    "import seaborn as sns\n",
    "\n",
    "sns.set_style('darkgrid')\n",
    "%config InlineBackend.figure_format = 'retina'\n",
    "%matplotlib inline"
   ]
  },
  {
   "cell_type": "code",
   "execution_count": 4,
   "metadata": {},
   "outputs": [],
   "source": [
    "df= pd.read_csv('fake_or_real_news.csv', index_col=0)\n",
    "kaggle= pd.read_csv('fake.csv')"
   ]
  },
  {
   "cell_type": "code",
   "execution_count": 5,
   "metadata": {},
   "outputs": [
    {
     "data": {
      "text/plain": [
       "((6335, 3), (12999, 20))"
      ]
     },
     "execution_count": 5,
     "metadata": {},
     "output_type": "execute_result"
    }
   ],
   "source": [
    "df.shape, kaggle.shape"
   ]
  },
  {
   "cell_type": "code",
   "execution_count": null,
   "metadata": {},
   "outputs": [],
   "source": [
    "df.label.unique()"
   ]
  },
  {
   "cell_type": "code",
   "execution_count": null,
   "metadata": {},
   "outputs": [],
   "source": [
    "kaggle.sample(3)"
   ]
  },
  {
   "cell_type": "code",
   "execution_count": null,
   "metadata": {},
   "outputs": [],
   "source": [
    "kaggle['type'].value_counts().unique"
   ]
  },
  {
   "cell_type": "code",
   "execution_count": null,
   "metadata": {},
   "outputs": [],
   "source": [
    "df.sample(7)"
   ]
  },
  {
   "cell_type": "code",
   "execution_count": null,
   "metadata": {},
   "outputs": [],
   "source": [
    "df.info()"
   ]
  },
  {
   "cell_type": "code",
   "execution_count": null,
   "metadata": {},
   "outputs": [],
   "source": [
    "le = LabelEncoder()\n",
    "df['binary_label']=le.fit_transform(df['label'])\n",
    "df.sample(5)"
   ]
  },
  {
   "cell_type": "code",
   "execution_count": null,
   "metadata": {},
   "outputs": [],
   "source": [
    "df[\"binary_label\"].sum()"
   ]
  },
  {
   "cell_type": "code",
   "execution_count": null,
   "metadata": {
    "collapsed": true
   },
   "outputs": [],
   "source": [
    "df = df.reset_index(drop=True)"
   ]
  },
  {
   "cell_type": "code",
   "execution_count": 4,
   "metadata": {
    "collapsed": true
   },
   "outputs": [],
   "source": [
    "def cleaner(text):\n",
    "    try:\n",
    "        text = re.sub('[.,\\/#!$%\\^&\\*;:{}\\+=<>_`~()]', ' ', text)\n",
    "        text = re.sub('[^a-z0-9 ]','', text.lower())\n",
    "#         text = re.sub('displaystyle',' ', text)\n",
    "        text = re.sub('\\s+',' ',text)\n",
    "    except: \n",
    "        pass\n",
    "    return text"
   ]
  },
  {
   "cell_type": "code",
   "execution_count": 5,
   "metadata": {
    "collapsed": true
   },
   "outputs": [],
   "source": [
    "df[\"text\"]=df[\"text\"].apply(cleaner)"
   ]
  },
  {
   "cell_type": "code",
   "execution_count": null,
   "metadata": {},
   "outputs": [],
   "source": [
    "df.sample(7)"
   ]
  },
  {
   "cell_type": "code",
   "execution_count": null,
   "metadata": {},
   "outputs": [],
   "source": [
    "X=df.drop(\"label\", axis=1)\n",
    "y = df['label'] \n",
    " \n",
    "# Drop the `label` column \n",
    "df.drop(\"label\", axis=1) \n",
    " \n",
    "# Make training and test sets \n",
    "X_train, X_test, y_train, y_test = train_test_split(df['text'], y, test_size=0.30, random_state=42)"
   ]
  },
  {
   "cell_type": "markdown",
   "metadata": {},
   "source": [
    "### Ideas to drive from EDA:\n",
    "* Look at global token counts\n",
    "  * Ngrams (individually 2,3,4,5,6.  Then Range 2,6)\n",
    "* Look at subsets for labels (+ ngrams)\n",
    "* Look at New datasets (kaggle)\n",
    "* Look at specific time periods (do some research first)\n",
    "* Look at what is distinct between classes / labels\n",
    "* Make this modular (consider OO python)\n",
    "  * Swap out vectorizers\n",
    "* Start plotting everything"
   ]
  },
  {
   "cell_type": "code",
   "execution_count": 13,
   "metadata": {},
   "outputs": [],
   "source": [
    "from sklearn.feature_extraction.text import ENGLISH_STOP_WORDS\n",
    "\n",
    "stop_words = list(ENGLISH_STOP_WORDS)\n",
    "# stop_words.extend([\"number\", \"like\", \"just\"]) #after round one\n",
    "# stop_words.extend([\"donald\",\"trump\", \"hillary\", \"clinton\", \"obama\", \"number\", \"like\"])\n",
    "#\"united\", \"states\", \"white\", \"house\""
   ]
  },
  {
   "cell_type": "code",
   "execution_count": 24,
   "metadata": {},
   "outputs": [
    {
     "data": {
      "text/plain": [
       "True"
      ]
     },
     "execution_count": 24,
     "metadata": {},
     "output_type": "execute_result"
    }
   ],
   "source": []
  },
  {
   "cell_type": "code",
   "execution_count": 7,
   "metadata": {},
   "outputs": [],
   "source": [
    "# Initialize the `count_vectorizer` \n",
    "count_vectorizer = CountVectorizer(stop_words=stop_words, max_df=0.7) \n",
    "\n",
    "\n",
    "# # Fit and transform the training data \n",
    "# count_train = count_vectorizer.fit_transform(X_train) \n",
    "\n",
    "# # Transform the test set\n",
    "# count_test = count_vectorizer.transform(X_test)"
   ]
  },
  {
   "cell_type": "markdown",
   "metadata": {},
   "source": [
    "## Dave's Minor EDA"
   ]
  },
  {
   "cell_type": "code",
   "execution_count": null,
   "metadata": {},
   "outputs": [],
   "source": [
    "X = count_vectorizer.fit_transform(df['text'])"
   ]
  },
  {
   "cell_type": "code",
   "execution_count": null,
   "metadata": {
    "collapsed": true
   },
   "outputs": [],
   "source": [
    "x_text = pd.DataFrame(X.toarray(), columns = count_vectorizer.get_feature_names())"
   ]
  },
  {
   "cell_type": "code",
   "execution_count": null,
   "metadata": {},
   "outputs": [],
   "source": [
    "x_text.index = df['label']"
   ]
  },
  {
   "cell_type": "code",
   "execution_count": null,
   "metadata": {},
   "outputs": [],
   "source": [
    "token_sums = x_text.sum()"
   ]
  },
  {
   "cell_type": "code",
   "execution_count": null,
   "metadata": {},
   "outputs": [],
   "source": [
    "#0a before removing first round of stop words\n",
    "top_tokens0a=token_sums.sort_values(ascending=False)\n",
    "top_tokens0a[:10]"
   ]
  },
  {
   "cell_type": "code",
   "execution_count": null,
   "metadata": {},
   "outputs": [],
   "source": [
    "x_text.groupby(x_text.index)[top_tokens0a.index[:10]].sum()"
   ]
  },
  {
   "cell_type": "code",
   "execution_count": null,
   "metadata": {},
   "outputs": [],
   "source": [
    "#0b after removing first round of stop words\n",
    "top_tokens0b=token_sums.sort_values(ascending=False)\n",
    "top_tokens0b[:10]"
   ]
  },
  {
   "cell_type": "code",
   "execution_count": null,
   "metadata": {},
   "outputs": [],
   "source": [
    "x_text.groupby(x_text.index)[top_tokens0b.index[:10]].sum()"
   ]
  },
  {
   "cell_type": "code",
   "execution_count": null,
   "metadata": {
    "collapsed": true
   },
   "outputs": [],
   "source": [
    "# Get the feature names of `count_vectorizer` \n",
    "# pprint.pprint(count_vectorizer.get_feature_names()[:10])\n",
    "# pprint.pprint(count_vectorizer.get_feature_names()[-10:])"
   ]
  },
  {
   "cell_type": "code",
   "execution_count": 8,
   "metadata": {},
   "outputs": [],
   "source": [
    "sub=df.sample(1000)"
   ]
  },
  {
   "cell_type": "code",
   "execution_count": 10,
   "metadata": {
    "collapsed": true
   },
   "outputs": [],
   "source": [
    "# Initialize the `tfidf_vectorizer` with max_df remove articles that have 70% of the the tim\n",
    "tfidf_vectorizer1 = TfidfVectorizer(stop_words=stop_words, max_df=0.7) \n",
    "tfidf_vectorizer2 = TfidfVectorizer(stop_words=stop_words, max_df=0.7, ngram_range=(2,2)) \n",
    "tfidf_vectorizer3 = TfidfVectorizer(stop_words=stop_words, max_df=0.7, ngram_range=(3,3)) \n",
    "tfidf_vectorizer4 = TfidfVectorizer(stop_words=stop_words, max_df=0.7, ngram_range=(4,4)) \n",
    "tfidf_vectorizer5 = TfidfVectorizer(stop_words=stop_words, max_df=0.7, ngram_range=(5,5)) \n",
    "tfidf_vectorizer6 = TfidfVectorizer(stop_words=stop_words, max_df=0.7, ngram_range=(6,6)) \n",
    "\n",
    "tfidf_vectorizer2_6 = TfidfVectorizer(stop_words=stop_words, max_df=0.7, ngram_range=(2,6))\n",
    "# # Fit and transform the training data \n",
    "# tfidf_train1 = tfidf_vectorizer1.fit_transform(X_train) \n",
    "\n",
    "# # Transform the test set \n",
    "# tfidf_test1 = tfidf_vectorizer.transform(X_test)"
   ]
  },
  {
   "cell_type": "code",
   "execution_count": 11,
   "metadata": {},
   "outputs": [],
   "source": [
    "X1 = tfidf_vectorizer1.fit_transform(sub[\"text\"])\n",
    "X2 = tfidf_vectorizer2.fit_transform(sub[\"text\"])\n",
    "X3 = tfidf_vectorizer3.fit_transform(sub[\"text\"])\n",
    "X4 = tfidf_vectorizer4.fit_transform(sub[\"text\"])\n",
    "X5 = tfidf_vectorizer5.fit_transform(sub[\"text\"])\n",
    "X6 = tfidf_vectorizer6.fit_transform(sub[\"text\"])\n",
    "X2_6=tfidf_vectorizer2_6.fit_transform(sub[\"text\"])"
   ]
  },
  {
   "cell_type": "code",
   "execution_count": 12,
   "metadata": {},
   "outputs": [],
   "source": [
    "x1_text = pd.DataFrame(X1.toarray(), columns = tfidf_vectorizer1.get_feature_names())\n",
    "x2_text = pd.DataFrame(X2.toarray(), columns = tfidf_vectorizer2.get_feature_names())\n",
    "x3_text = pd.DataFrame(X3.toarray(), columns = tfidf_vectorizer3.get_feature_names())\n",
    "x4_text = pd.DataFrame(X4.toarray(), columns = tfidf_vectorizer4.get_feature_names())\n",
    "x5_text = pd.DataFrame(X5.toarray(), columns = tfidf_vectorizer5.get_feature_names())\n",
    "x6_text = pd.DataFrame(X6.toarray(), columns = tfidf_vectorizer6.get_feature_names())\n",
    "x2_6_text = pd.DataFrame(X2_6.toarray(), columns = tfidf_vectorizer2_6.get_feature_names())\n"
   ]
  },
  {
   "cell_type": "code",
   "execution_count": null,
   "metadata": {},
   "outputs": [],
   "source": []
  },
  {
   "cell_type": "code",
   "execution_count": null,
   "metadata": {},
   "outputs": [],
   "source": []
  },
  {
   "cell_type": "code",
   "execution_count": 13,
   "metadata": {},
   "outputs": [],
   "source": [
    "x1_text.index = sub['label']\n",
    "# x1_text.head(500).groupby(x_text.head(500).index).sum()"
   ]
  },
  {
   "cell_type": "code",
   "execution_count": 14,
   "metadata": {
    "collapsed": true
   },
   "outputs": [],
   "source": [
    "x2_text.index = sub['label']\n",
    "# x2_text.head(500).groupby(x_text.head(500).index).sum()"
   ]
  },
  {
   "cell_type": "code",
   "execution_count": null,
   "metadata": {
    "collapsed": true
   },
   "outputs": [],
   "source": [
    "x3_text.index = sub['label']\n",
    "# x2_text.head(500).groupby(x_text.head(500).index).sum()"
   ]
  },
  {
   "cell_type": "code",
   "execution_count": null,
   "metadata": {
    "collapsed": true
   },
   "outputs": [],
   "source": [
    "x4_text.index = sub['label']\n",
    "# x4_text.head(500).groupby(x_text.head(500).index).sum()"
   ]
  },
  {
   "cell_type": "code",
   "execution_count": null,
   "metadata": {},
   "outputs": [],
   "source": [
    "x5_text.index = sub['label']\n",
    "# x2_text.head(500).groupby(x_text.head(500).index).sum()"
   ]
  },
  {
   "cell_type": "code",
   "execution_count": null,
   "metadata": {},
   "outputs": [],
   "source": [
    "x6_text.index = sub['label']\n",
    "# x6_text.head(500).groupby(x_text.head(500).index).sum()"
   ]
  },
  {
   "cell_type": "code",
   "execution_count": null,
   "metadata": {
    "collapsed": true
   },
   "outputs": [],
   "source": []
  },
  {
   "cell_type": "code",
   "execution_count": 33,
   "metadata": {},
   "outputs": [
    {
     "data": {
      "text/html": [
       "<div>\n",
       "<table border=\"1\" class=\"dataframe\">\n",
       "  <thead>\n",
       "    <tr style=\"text-align: right;\">\n",
       "      <th></th>\n",
       "      <th>trump</th>\n",
       "      <th>said</th>\n",
       "      <th>clinton</th>\n",
       "      <th>hillary</th>\n",
       "      <th>people</th>\n",
       "      <th>campaign</th>\n",
       "      <th>new</th>\n",
       "      <th>president</th>\n",
       "      <th>election</th>\n",
       "      <th>obama</th>\n",
       "    </tr>\n",
       "    <tr>\n",
       "      <th>label</th>\n",
       "      <th></th>\n",
       "      <th></th>\n",
       "      <th></th>\n",
       "      <th></th>\n",
       "      <th></th>\n",
       "      <th></th>\n",
       "      <th></th>\n",
       "      <th></th>\n",
       "      <th></th>\n",
       "      <th></th>\n",
       "    </tr>\n",
       "  </thead>\n",
       "  <tbody>\n",
       "    <tr>\n",
       "      <th>FAKE</th>\n",
       "      <td>16.278736</td>\n",
       "      <td>7.525963</td>\n",
       "      <td>16.817441</td>\n",
       "      <td>13.914335</td>\n",
       "      <td>9.497684</td>\n",
       "      <td>4.961124</td>\n",
       "      <td>7.088259</td>\n",
       "      <td>5.132831</td>\n",
       "      <td>10.339816</td>\n",
       "      <td>4.756261</td>\n",
       "    </tr>\n",
       "    <tr>\n",
       "      <th>REAL</th>\n",
       "      <td>31.429711</td>\n",
       "      <td>29.579888</td>\n",
       "      <td>19.251150</td>\n",
       "      <td>6.009248</td>\n",
       "      <td>9.948691</td>\n",
       "      <td>13.912499</td>\n",
       "      <td>10.668141</td>\n",
       "      <td>11.907286</td>\n",
       "      <td>6.611572</td>\n",
       "      <td>11.859194</td>\n",
       "    </tr>\n",
       "  </tbody>\n",
       "</table>\n",
       "</div>"
      ],
      "text/plain": [
       "           trump       said    clinton    hillary    people   campaign  \\\n",
       "label                                                                    \n",
       "FAKE   16.278736   7.525963  16.817441  13.914335  9.497684   4.961124   \n",
       "REAL   31.429711  29.579888  19.251150   6.009248  9.948691  13.912499   \n",
       "\n",
       "             new  president   election      obama  \n",
       "label                                              \n",
       "FAKE    7.088259   5.132831  10.339816   4.756261  \n",
       "REAL   10.668141  11.907286   6.611572  11.859194  "
      ]
     },
     "execution_count": 33,
     "metadata": {},
     "output_type": "execute_result"
    }
   ],
   "source": [
    "token_sums1 = x1_text.sum()\n",
    "top_tokens1=token_sums1.sort_values(ascending=False)\n",
    "x1_text.groupby(x1_text.index)[top_tokens1.index[:10]].sum()\n"
   ]
  },
  {
   "cell_type": "code",
   "execution_count": 17,
   "metadata": {},
   "outputs": [
    {
     "data": {
      "text/plain": [
       "clinton     16.817441\n",
       "trump       16.278736\n",
       "hillary     13.914335\n",
       "election    10.339816\n",
       "2016         9.787630\n",
       "people       9.497684\n",
       "fbi          8.391920\n",
       "said         7.525963\n",
       "just         7.399024\n",
       "war          7.282972\n",
       "dtype: float64"
      ]
     },
     "execution_count": 17,
     "metadata": {},
     "output_type": "execute_result"
    }
   ],
   "source": [
    "token_sums1_fake = x1_text[x1_text.index==\"FAKE\"].sum()\n",
    "top_tokens1_fake=token_sums1_fake.sort_values(ascending=False)\n",
    "top_tokens1_fake[:10]"
   ]
  },
  {
   "cell_type": "code",
   "execution_count": null,
   "metadata": {},
   "outputs": [],
   "source": [
    "token_sums1_real = x1_text[x1_text.index==\"REAL\"].sum()\n",
    "top_tokens1_real=token_sums1_real.sort_values(ascending=False)\n",
    "top_tokens1_real[:10]"
   ]
  },
  {
   "cell_type": "code",
   "execution_count": null,
   "metadata": {
    "collapsed": true
   },
   "outputs": [],
   "source": []
  },
  {
   "cell_type": "code",
   "execution_count": 18,
   "metadata": {},
   "outputs": [
    {
     "data": {
      "text/plain": [
       "hillary clinton    9.114906\n",
       "donald trump       8.332155\n",
       "united states      7.547117\n",
       "white house        6.198834\n",
       "new york           5.403721\n",
       "fox news           4.044633\n",
       "new hampshire      3.877371\n",
       "islamic state      3.644540\n",
       "trump said         3.537184\n",
       "secretary state    3.320954\n",
       "dtype: float64"
      ]
     },
     "execution_count": 18,
     "metadata": {},
     "output_type": "execute_result"
    }
   ],
   "source": [
    "token_sums2 = x2_text.sum()\n",
    "top_tokens2=token_sums2.sort_values(ascending=False)\n",
    "x2_text.groupby(x2_text.index)[top_tokens2.index[:10]].sum()\n",
    "top_tokens2[:10]"
   ]
  },
  {
   "cell_type": "code",
   "execution_count": 19,
   "metadata": {},
   "outputs": [
    {
     "data": {
      "text/plain": [
       "hillary clinton       5.800793\n",
       "donald trump          3.774171\n",
       "united states         3.294993\n",
       "november 2016         2.840593\n",
       "27 2016               2.295987\n",
       "october 27            2.034130\n",
       "hillary clintons      1.992710\n",
       "twitter com           1.930856\n",
       "pic twitter           1.815053\n",
       "clinton foundation    1.803653\n",
       "dtype: float64"
      ]
     },
     "execution_count": 19,
     "metadata": {},
     "output_type": "execute_result"
    }
   ],
   "source": [
    "token_sums2_fake = x2_text[x2_text.index==\"FAKE\"].sum()\n",
    "top_tokens2_fake=token_sums2_fake.sort_values(ascending=False)\n",
    "top_tokens2_fake[:10]"
   ]
  },
  {
   "cell_type": "code",
   "execution_count": null,
   "metadata": {},
   "outputs": [],
   "source": [
    "token_sums2_real = x2_text[x2_text.index==\"REAL\"].sum()\n",
    "top_tokens2_real=token_sums2_real.sort_values(ascending=False)\n",
    "top_tokens2_real[:10]"
   ]
  },
  {
   "cell_type": "code",
   "execution_count": null,
   "metadata": {
    "collapsed": true
   },
   "outputs": [],
   "source": []
  },
  {
   "cell_type": "code",
   "execution_count": null,
   "metadata": {},
   "outputs": [],
   "source": [
    "token_sums3 = x3_text.sum()\n",
    "top_tokens3=token_sums3.sort_values(ascending=False)\n",
    "x3_text.groupby(x3_text.index)[top_tokens3.index[:10]].sum()"
   ]
  },
  {
   "cell_type": "code",
   "execution_count": null,
   "metadata": {},
   "outputs": [],
   "source": [
    "token_sums3_fake = x3_text[x3_text.index==\"FAKE\"].sum()\n",
    "top_tokens3_fake=token_sums3_fake.sort_values(ascending=False)\n",
    "top_tokens3_fake[:10]"
   ]
  },
  {
   "cell_type": "code",
   "execution_count": null,
   "metadata": {},
   "outputs": [],
   "source": [
    "token_sums3_real = x3_text[x3_text.index==\"REAL\"].sum()\n",
    "top_tokens3_real=token_sums3_real.sort_values(ascending=False)\n",
    "top_tokens3_real[:10]"
   ]
  },
  {
   "cell_type": "code",
   "execution_count": null,
   "metadata": {},
   "outputs": [],
   "source": []
  },
  {
   "cell_type": "code",
   "execution_count": null,
   "metadata": {},
   "outputs": [],
   "source": [
    "token_sums4 = x4_text.sum()\n",
    "top_tokens4=token_sums4.sort_values(ascending=False)\n",
    "x4_text.groupby(x4_text.index)[top_tokens4.index[:10]].sum()"
   ]
  },
  {
   "cell_type": "code",
   "execution_count": null,
   "metadata": {},
   "outputs": [],
   "source": [
    "token_sums4_fake = x4_text[x4_text.index==\"FAKE\"].sum()\n",
    "top_tokens4_fake=token_sums4_fake.sort_values(ascending=False)\n",
    "top_tokens4_fake[:10]"
   ]
  },
  {
   "cell_type": "code",
   "execution_count": null,
   "metadata": {},
   "outputs": [],
   "source": [
    "token_sums4_real = x4_text[x4_text.index==\"REAL\"].sum()\n",
    "top_tokens4_real=token_sums4_real.sort_values(ascending=False)\n",
    "top_tokens4_real[:10]"
   ]
  },
  {
   "cell_type": "code",
   "execution_count": null,
   "metadata": {
    "collapsed": true
   },
   "outputs": [],
   "source": []
  },
  {
   "cell_type": "code",
   "execution_count": null,
   "metadata": {},
   "outputs": [],
   "source": [
    "token_sums5 = x5_text.sum()\n",
    "top_tokens5=token_sums5.sort_values(ascending=False)\n",
    "x5_text.groupby(x5_text.index)[top_tokens5.index[:10]].sum()"
   ]
  },
  {
   "cell_type": "code",
   "execution_count": null,
   "metadata": {},
   "outputs": [],
   "source": [
    "token_sums5_fake = x5_text[x5_text.index==\"FAKE\"].sum()\n",
    "top_tokens5_fake=token_sums5_fake.sort_values(ascending=False)\n",
    "top_tokens5_fake[:10]"
   ]
  },
  {
   "cell_type": "code",
   "execution_count": null,
   "metadata": {},
   "outputs": [],
   "source": [
    "token_sums5_real = x5_text[x5_text.index==\"REAL\"].sum()\n",
    "top_tokens5_real=token_sums5_real.sort_values(ascending=False)\n",
    "top_tokens5_real[:10]"
   ]
  },
  {
   "cell_type": "code",
   "execution_count": null,
   "metadata": {
    "collapsed": true
   },
   "outputs": [],
   "source": []
  },
  {
   "cell_type": "code",
   "execution_count": null,
   "metadata": {},
   "outputs": [],
   "source": [
    "token_sums6 = x6_text.sum()\n",
    "top_tokens6=token_sums6.sort_values(ascending=False)\n",
    "x6_text.groupby(x6_text.index)[top_tokens6.index[:10]].sum()"
   ]
  },
  {
   "cell_type": "code",
   "execution_count": null,
   "metadata": {},
   "outputs": [],
   "source": [
    "token_sums6_fake = x6_text[x6_text.index==\"FAKE\"].sum()\n",
    "top_tokens6_fake=token_sums6_fake.sort_values(ascending=False)\n",
    "top_tokens6_fake[:10]"
   ]
  },
  {
   "cell_type": "code",
   "execution_count": null,
   "metadata": {},
   "outputs": [],
   "source": [
    "token_sums6_real = x6_text[x6_text.index==\"REAL\"].sum()\n",
    "top_tokens6_real=token_sums6_real.sort_values(ascending=False)\n",
    "top_tokens6_real[:10]"
   ]
  },
  {
   "cell_type": "code",
   "execution_count": null,
   "metadata": {},
   "outputs": [],
   "source": [
    "x1_text.index[:10]"
   ]
  },
  {
   "cell_type": "code",
   "execution_count": null,
   "metadata": {},
   "outputs": [],
   "source": [
    "# token_sums2_6 = x2_6_text.sum()\n",
    "# token_sums2_6.sort_values(ascending=False).head(10)"
   ]
  },
  {
   "cell_type": "code",
   "execution_count": 65,
   "metadata": {},
   "outputs": [
    {
     "data": {
      "image/png": "[encoded data removed]",
      "text/plain": [
       "<matplotlib.figure.Figure at 0x7f3e13cab2e8>"
      ]
     },
     "metadata": {
      "image/png": {
       "height": 612,
       "width": 699
      }
     },
     "output_type": "display_data"
    }
   ],
   "source": [
    "plt.figure(figsize=(12,10))\n",
    "plot=sns.barplot(x=top_tokens2_fake.index[:10], y=top_tokens2_fake[:10])\n",
    "plot.set_xticklabels(top_tokens2_fake.index[:10], rotation=30)\n",
    "plt.show()"
   ]
  },
  {
   "cell_type": "code",
   "execution_count": 56,
   "metadata": {},
   "outputs": [],
   "source": [
    "class TokenAnalysis(object):\n",
    "    from sklearn.feature_extraction.text import ENGLISH_STOP_WORDS\n",
    "    from sklearn.feature_extraction.text import TfidfVectorizer, CountVectorizer\n",
    "    \n",
    "    \n",
    "    def __init__(self, df, Vectorizer=None, max_df=None, n_gram_range=None, stop_words=None):\n",
    "        self.text=df[\"text\"]\n",
    "        self.label=df[\"label\"]\n",
    "        \n",
    "        self.max_df=max_df\n",
    "        self.ngram_range= n_gram_range\n",
    "        self.vec=Vectorizer\n",
    "        \n",
    "        if stop_words is None:\n",
    "            self.stop_words=list(ENGLISH_STOP_WORDS)           \n",
    "        else:\n",
    "            self.stop_words= stop_words\n",
    "        \n",
    "        \n",
    "        if self.vec is None:\n",
    "            if self.max_df is None:\n",
    "                self.vectorizer=CountVectorizer(stop_words=self.stop_words, max_df=0.7) \n",
    "            else:\n",
    "                self.vectorizer=CountVectorizer(stop_words=self.stop_words, max_df=self.max_df)\n",
    "                \n",
    "        else:                    \n",
    "            if self.ngram_range is None:\n",
    "                self.vectorizer=self.vec(stop_words=self.stop_words, max_df=0.7)\n",
    "            else:\n",
    "                self.vectorizer=self.vec(stop_words=self.stop_words, max_df=0.7, ngram_range=self.ngram_range)\n",
    "        \n",
    "\n",
    "        \n",
    "    \n",
    "        # make token dataframe called X_text\n",
    "        self.X = self.vectorizer.fit_transform(self.text)\n",
    "        self.X_text = pd.DataFrame(self.X.toarray(), columns = self.vectorizer.get_feature_names())\n",
    "        self.X_text.index=df[\"label\"]\n",
    "    \n",
    "    #intialize vectorizer\n",
    "    def init_vectorizer(self, vec):   \n",
    "         \n",
    "        #default to CountVectorizer\n",
    "\n",
    "        if self.vec is None:\n",
    "            if self.max_df is None:\n",
    "                self.vectorizer=CountVectorizer(stop_words=self.stop_words, max_df=0.7) \n",
    "            else:\n",
    "                self.vectorizer=CountVectorizer(stop_words=self.stop_words, max_df=self.max_df)\n",
    "                \n",
    "        else:                    \n",
    "            if self.ngram_range is None:\n",
    "                self.vectorizer=self.vec(stop_words=self.stop_words, max_df=0.7)\n",
    "            else:\n",
    "                self.vectorizer=self.vec(stop_words=self.stop_words, max_df=0.7, ngram_range=self.ngram_range)\n",
    "                \n",
    "        \n",
    "    def top_tokens(self, num=None, label=None):\n",
    "        \n",
    "        if num is None and label is None:\n",
    "            token_sum = self.X_text.sum()\n",
    "            top=token_sum.sort_values(ascending=False)\n",
    "            return top[:10]\n",
    "        \n",
    "        if label is None:\n",
    "            token_sum = self.X_text.sum()\n",
    "            top=token_sum.sort_values(ascending=False)\n",
    "            return top[:num]\n",
    "        \n",
    "        else:\n",
    "            token_sums_labeled = self.X_text[self.X_text.index==label].sum()\n",
    "            top=token_sums_labeled.sort_values(ascending=False)\n",
    "            \n",
    "            if num is None:\n",
    "                return top[:10]\n",
    "            else:\n",
    "                return top[:num] \n",
    "            \n",
    "            \n",
    "    def top_tokens_label_freq(self, num=None):\n",
    "        if num is None:\n",
    "            num=10\n",
    "            \n",
    "        top=self.top_tokens(num)\n",
    "        return self.X_text.groupby(self.X_text.index)[top.index[:num]].sum()                                                      \n",
    "\n",
    "    \n",
    "    def plot_top_tokens(self, top):\n",
    "        plt.figure(figsize=(8,6))\n",
    "        \n",
    "        plot1=sns.barplot(x=top.index, y=top)\n",
    "        plot1.set_title(\"Top {} tokens\".format(len(top)))\n",
    "        plot1.set_xticklabels(top.index, rotation=30)\n",
    "        plt.show()\n",
    "        \n",
    "    def add_stops(self, words):\n",
    "        if type(words) is list:\n",
    "            self.stop_words.extend(word)\n",
    "        else:\n",
    "            self.stop_words.append(word)\n",
    "        \n",
    "\n",
    "        if self.vec is None:\n",
    "            if self.max_df is None:\n",
    "                self.vectorizer=CountVectorizer(stop_words=self.stop_words, max_df=0.7) \n",
    "            else:\n",
    "                self.vectorizer=CountVectorizer(stop_words=self.stop_words, max_df=self.max_df)\n",
    "                \n",
    "        else:                    \n",
    "            if self.ngram_range is None:\n",
    "                self.vectorizer=self.vec(stop_words=self.stop_words, max_df=0.7)\n",
    "            else:\n",
    "                self.vectorizer=self.vec(stop_words=self.stop_words, max_df=0.7, ngram_range=self.ngram_range)\n",
    "        \n",
    "        \n",
    "        \n",
    "        "
   ]
  },
  {
   "cell_type": "code",
   "execution_count": 15,
   "metadata": {},
   "outputs": [],
   "source": [
    "sub=df.sample(1000)"
   ]
  },
  {
   "cell_type": "code",
   "execution_count": 57,
   "metadata": {},
   "outputs": [],
   "source": [
    "ta=TokenAnalysis(sub, TfidfVectorizer, n_gram_range=(2,2))"
   ]
  },
  {
   "cell_type": "code",
   "execution_count": 58,
   "metadata": {},
   "outputs": [
    {
     "data": {
      "text/plain": [
       "TfidfVectorizer(analyzer='word', binary=False, decode_error='strict',\n",
       "        dtype=<class 'numpy.int64'>, encoding='utf-8', input='content',\n",
       "        lowercase=True, max_df=0.7, max_features=None, min_df=1,\n",
       "        ngram_range=(2, 2), norm='l2', preprocessor=None, smooth_idf=True,\n",
       "        stop_words=['else', 'but', 'serious', 'itself', 'to', 'around', 'etc', 'already', 'herein', 'my', 'thereafter', 'con', 'is', 'since', 'whenever', 'own', 'a', 'and', 'becoming', 'could', 'fifty', 'am', 'anyone', 'everything', 'ie', 'on', 'same', 'toward', 'yourselves', 'alone', 'ever', 'go', 'mill', ... 'themselves', 'many', 'might', 'first', 'per', 'too', 'via', 'are', 'sincere', 'top', 'afterwards'],\n",
       "        strip_accents=None, sublinear_tf=False,\n",
       "        token_pattern='(?u)\\\\b\\\\w\\\\w+\\\\b', tokenizer=None, use_idf=True,\n",
       "        vocabulary=None)"
      ]
     },
     "execution_count": 58,
     "metadata": {},
     "output_type": "execute_result"
    }
   ],
   "source": [
    "ta.vectorizer"
   ]
  },
  {
   "cell_type": "code",
   "execution_count": 32,
   "metadata": {},
   "outputs": [],
   "source": [
    "top=ta.top_tokens()\n"
   ]
  },
  {
   "cell_type": "code",
   "execution_count": 23,
   "metadata": {},
   "outputs": [
    {
     "data": {
      "image/png": "[encoded data removed]",
      "text/plain": [
       "<matplotlib.figure.Figure at 0x7f20e00fd208>"
      ]
     },
     "metadata": {
      "image/png": {
       "height": 407,
       "width": 487
      }
     },
     "output_type": "display_data"
    }
   ],
   "source": [
    "ta.plot_top_tokens(top)"
   ]
  },
  {
   "cell_type": "code",
   "execution_count": 59,
   "metadata": {
    "scrolled": true
   },
   "outputs": [
    {
     "data": {
      "text/html": [
       "<div>\n",
       "<table border=\"1\" class=\"dataframe\">\n",
       "  <thead>\n",
       "    <tr style=\"text-align: right;\">\n",
       "      <th></th>\n",
       "      <th>trump</th>\n",
       "      <th>said</th>\n",
       "      <th>clinton</th>\n",
       "      <th>hillary</th>\n",
       "      <th>people</th>\n",
       "      <th>campaign</th>\n",
       "      <th>new</th>\n",
       "      <th>president</th>\n",
       "      <th>election</th>\n",
       "      <th>obama</th>\n",
       "    </tr>\n",
       "    <tr>\n",
       "      <th>label</th>\n",
       "      <th></th>\n",
       "      <th></th>\n",
       "      <th></th>\n",
       "      <th></th>\n",
       "      <th></th>\n",
       "      <th></th>\n",
       "      <th></th>\n",
       "      <th></th>\n",
       "      <th></th>\n",
       "      <th></th>\n",
       "    </tr>\n",
       "  </thead>\n",
       "  <tbody>\n",
       "    <tr>\n",
       "      <th>FAKE</th>\n",
       "      <td>16.278736</td>\n",
       "      <td>7.525963</td>\n",
       "      <td>16.817441</td>\n",
       "      <td>13.914335</td>\n",
       "      <td>9.497684</td>\n",
       "      <td>4.961124</td>\n",
       "      <td>7.088259</td>\n",
       "      <td>5.132831</td>\n",
       "      <td>10.339816</td>\n",
       "      <td>4.756261</td>\n",
       "    </tr>\n",
       "    <tr>\n",
       "      <th>REAL</th>\n",
       "      <td>31.429711</td>\n",
       "      <td>29.579888</td>\n",
       "      <td>19.251150</td>\n",
       "      <td>6.009248</td>\n",
       "      <td>9.948691</td>\n",
       "      <td>13.912499</td>\n",
       "      <td>10.668141</td>\n",
       "      <td>11.907286</td>\n",
       "      <td>6.611572</td>\n",
       "      <td>11.859194</td>\n",
       "    </tr>\n",
       "  </tbody>\n",
       "</table>\n",
       "</div>"
      ],
      "text/plain": [
       "           trump       said    clinton    hillary    people   campaign  \\\n",
       "label                                                                    \n",
       "FAKE   16.278736   7.525963  16.817441  13.914335  9.497684   4.961124   \n",
       "REAL   31.429711  29.579888  19.251150   6.009248  9.948691  13.912499   \n",
       "\n",
       "             new  president   election      obama  \n",
       "label                                              \n",
       "FAKE    7.088259   5.132831  10.339816   4.756261  \n",
       "REAL   10.668141  11.907286   6.611572  11.859194  "
      ]
     },
     "execution_count": 59,
     "metadata": {},
     "output_type": "execute_result"
    }
   ],
   "source": [
    "ta.top_tokens_label_freq()"
   ]
  },
  {
   "cell_type": "code",
   "execution_count": 45,
   "metadata": {},
   "outputs": [
    {
     "data": {
      "text/html": [
       "<div>\n",
       "<table border=\"1\" class=\"dataframe\">\n",
       "  <thead>\n",
       "    <tr style=\"text-align: right;\">\n",
       "      <th></th>\n",
       "      <th>trump</th>\n",
       "      <th>said</th>\n",
       "      <th>clinton</th>\n",
       "      <th>hillary</th>\n",
       "      <th>people</th>\n",
       "      <th>campaign</th>\n",
       "      <th>new</th>\n",
       "      <th>president</th>\n",
       "      <th>election</th>\n",
       "      <th>obama</th>\n",
       "    </tr>\n",
       "    <tr>\n",
       "      <th>label</th>\n",
       "      <th></th>\n",
       "      <th></th>\n",
       "      <th></th>\n",
       "      <th></th>\n",
       "      <th></th>\n",
       "      <th></th>\n",
       "      <th></th>\n",
       "      <th></th>\n",
       "      <th></th>\n",
       "      <th></th>\n",
       "    </tr>\n",
       "  </thead>\n",
       "  <tbody>\n",
       "    <tr>\n",
       "      <th>FAKE</th>\n",
       "      <td>16.278736</td>\n",
       "      <td>7.525963</td>\n",
       "      <td>16.817441</td>\n",
       "      <td>13.914335</td>\n",
       "      <td>9.497684</td>\n",
       "      <td>4.961124</td>\n",
       "      <td>7.088259</td>\n",
       "      <td>5.132831</td>\n",
       "      <td>10.339816</td>\n",
       "      <td>4.756261</td>\n",
       "    </tr>\n",
       "    <tr>\n",
       "      <th>REAL</th>\n",
       "      <td>31.429711</td>\n",
       "      <td>29.579888</td>\n",
       "      <td>19.251150</td>\n",
       "      <td>6.009248</td>\n",
       "      <td>9.948691</td>\n",
       "      <td>13.912499</td>\n",
       "      <td>10.668141</td>\n",
       "      <td>11.907286</td>\n",
       "      <td>6.611572</td>\n",
       "      <td>11.859194</td>\n",
       "    </tr>\n",
       "  </tbody>\n",
       "</table>\n",
       "</div>"
      ],
      "text/plain": [
       "           trump       said    clinton    hillary    people   campaign  \\\n",
       "label                                                                    \n",
       "FAKE   16.278736   7.525963  16.817441  13.914335  9.497684   4.961124   \n",
       "REAL   31.429711  29.579888  19.251150   6.009248  9.948691  13.912499   \n",
       "\n",
       "             new  president   election      obama  \n",
       "label                                              \n",
       "FAKE    7.088259   5.132831  10.339816   4.756261  \n",
       "REAL   10.668141  11.907286   6.611572  11.859194  "
      ]
     },
     "execution_count": 45,
     "metadata": {},
     "output_type": "execute_result"
    }
   ],
   "source": [
    "x1_text.groupby(x1_text.index)[top_tokens1.index[:10]].sum()"
   ]
  },
  {
   "cell_type": "code",
   "execution_count": null,
   "metadata": {
    "collapsed": true
   },
   "outputs": [],
   "source": [
    "type(words) is list"
   ]
  },
  {
   "cell_type": "code",
   "execution_count": null,
   "metadata": {
    "collapsed": true
   },
   "outputs": [],
   "source": []
  },
  {
   "cell_type": "code",
   "execution_count": null,
   "metadata": {
    "collapsed": true
   },
   "outputs": [],
   "source": [
    "# Initialize the `tfidf_vectorizer`  with n_gram range 2,6\n",
    "# tfidf_vectorizer2 = TfidfVectorizer(stop_words=stop_words, max_df=0.7, ngram_range=(2,2)) \n",
    "\n",
    "# # Fit and transform the training data \n",
    "# tfidf_train2 = tfidf_vectorizer2.fit_transform(X_train) \n",
    "\n",
    "# # Transform the test set \n",
    "# tfidf_test2 = tfidf_vectorizer2.transform(X_test)"
   ]
  },
  {
   "cell_type": "code",
   "execution_count": null,
   "metadata": {},
   "outputs": [],
   "source": [
    "from sklearn.naive_bayes import MultinomialNB\n",
    "from sklearn.metrics import accuracy_score"
   ]
  },
  {
   "cell_type": "code",
   "execution_count": null,
   "metadata": {},
   "outputs": [],
   "source": [
    "clf = MultinomialNB()\n",
    "\n",
    "clf.fit(count_train, y_train)\n",
    "pred = clf.predict(count_test)\n",
    "score = accuracy_score(y_test, pred)\n",
    "print(\"accuracy:   %0.3f\" % score)"
   ]
  },
  {
   "cell_type": "code",
   "execution_count": null,
   "metadata": {},
   "outputs": [],
   "source": [
    "clf = MultinomialNB()\n",
    "\n",
    "clf.fit(tfidf_train, y_train)\n",
    "pred = clf.predict(tfidf_test)\n",
    "score = accuracy_score(y_test, pred)\n",
    "print(\"accuracy:   %0.3f\" % score)"
   ]
  },
  {
   "cell_type": "code",
   "execution_count": null,
   "metadata": {
    "collapsed": true
   },
   "outputs": [],
   "source": []
  }
 ],
 "metadata": {
  "kernelspec": {
   "display_name": "Python 3",
   "language": "python",
   "name": "python3"
  },
  "language_info": {
   "codemirror_mode": {
    "name": "ipython",
    "version": 3
   },
   "file_extension": ".py",
   "mimetype": "text/x-python",
   "name": "python",
   "nbconvert_exporter": "python",
   "pygments_lexer": "ipython3",
   "version": "3.6.2"
  }
 },
 "nbformat": 4,
 "nbformat_minor": 2
}
